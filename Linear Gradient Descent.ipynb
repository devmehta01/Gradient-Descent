{
  "nbformat": 4,
  "nbformat_minor": 0,
  "metadata": {
    "colab": {
      "provenance": []
    },
    "kernelspec": {
      "name": "python3",
      "display_name": "Python 3"
    },
    "language_info": {
      "name": "python"
    }
  },
  "cells": [
    {
      "cell_type": "code",
      "source": [
        "import numpy as np\n",
        "import matplotlib.pyplot as plt\n",
        "import pandas as pd\n",
        "import random\n",
        "import math"
      ],
      "metadata": {
        "id": "5HTx3mPTYT8y"
      },
      "execution_count": 88,
      "outputs": []
    },
    {
      "cell_type": "code",
      "source": [
        "def gen_dataset(n):\n",
        "  m = round(random.uniform(-1,1), 1)\n",
        "  c = round(random.uniform(-5,5), 1)\n",
        "\n",
        "  minval = 0\n",
        "  maxval = 20\n",
        "\n",
        "  X = [random.randrange(minval, maxval) for i in range(n)]\n",
        "  y = [random.randrange(math.ceil(m*x+c)+minval, math.floor(m*x+c)+maxval) for x in X]\n",
        "  #We are taking y values according to a random line so that the data produced turns out to be linear\n",
        "\n",
        "  return X,y,minval,maxval"
      ],
      "metadata": {
        "id": "nyPQAvw1pnOb"
      },
      "execution_count": 89,
      "outputs": []
    },
    {
      "cell_type": "code",
      "source": [
        "X, y, minval, maxval= gen_dataset(20)"
      ],
      "metadata": {
        "id": "oNAYE7p2KK18"
      },
      "execution_count": 92,
      "outputs": []
    },
    {
      "cell_type": "code",
      "source": [
        "#Plot data\n",
        "plt.scatter(X,y)\n",
        "plt.show()"
      ],
      "metadata": {
        "colab": {
          "base_uri": "https://localhost:8080/",
          "height": 265
        },
        "id": "Qa5ZaSRgKOWx",
        "outputId": "7c33bf37-235f-4f5b-a32b-f404661084cd"
      },
      "execution_count": 93,
      "outputs": [
        {
          "output_type": "display_data",
          "data": {
            "text/plain": [
              "<Figure size 432x288 with 1 Axes>"
            ],
            "image/png": "[encoded data removed]"
          },
          "metadata": {
            "needs_background": "light"
          }
        }
      ]
    },
    {
      "cell_type": "code",
      "source": [
        "#Randomly initialize the weights\n",
        "w = random.randrange(-5,5)\n",
        "b = random.randrange(-5,5)\n",
        "print(w,b)"
      ],
      "metadata": {
        "id": "lvNWKZC3KhbF",
        "colab": {
          "base_uri": "https://localhost:8080/"
        },
        "outputId": "2aaf754c-0c74-45c2-e4bf-6573318e5034"
      },
      "execution_count": 110,
      "outputs": [
        {
          "output_type": "stream",
          "name": "stdout",
          "text": [
            "1 2\n"
          ]
        }
      ]
    },
    {
      "cell_type": "code",
      "source": [
        "#Plot data along with our initial line\n",
        "plt.scatter(X,y)\n",
        "plt.plot(np.arange(minval, maxval), w*np.arange(minval, maxval)+b, color='green')\n",
        "plt.show()"
      ],
      "metadata": {
        "colab": {
          "base_uri": "https://localhost:8080/",
          "height": 265
        },
        "id": "Ay8DyvTKK-1z",
        "outputId": "2bc2d93b-4d5b-447c-f52d-4255770ae30f"
      },
      "execution_count": 111,
      "outputs": [
        {
          "output_type": "display_data",
          "data": {
            "text/plain": [
              "<Figure size 432x288 with 1 Axes>"
            ],
            "image/png": "[encoded data removed]"
          },
          "metadata": {
            "needs_background": "light"
          }
        }
      ]
    },
    {
      "cell_type": "code",
      "source": [
        "# Enter parameters\n",
        "lr = 0.005\n",
        "epochs = 1000"
      ],
      "metadata": {
        "id": "kjftYnX9LpzC"
      },
      "execution_count": 112,
      "outputs": []
    },
    {
      "cell_type": "code",
      "source": [
        "#Model training using Gradient Descent\n",
        "n = float(len(X))\n",
        "\n",
        "for i in range(epochs):\n",
        "  yhat = np.dot(w,X) + b #calculate output using the parameters\n",
        "  dw = (-2/n) * sum(X * (y - yhat)) #calculate differential of weight\n",
        "  db = (-2/n) * sum(y-yhat) #calculate differential of bias\n",
        "  w = w - lr*dw #update weight\n",
        "  b = b - lr*db #update bias\n",
        "\n",
        "print(w,b)"
      ],
      "metadata": {
        "colab": {
          "base_uri": "https://localhost:8080/"
        },
        "id": "6CpwbItjL1m3",
        "outputId": "eae07b73-6264-46f6-9453-7dc1dca93b97"
      },
      "execution_count": 113,
      "outputs": [
        {
          "output_type": "stream",
          "name": "stdout",
          "text": [
            "-0.7685597870975667 8.789305696792097\n"
          ]
        }
      ]
    },
    {
      "cell_type": "code",
      "source": [
        "#Plot our final linear model with data\n",
        "plt.scatter(X,y)\n",
        "plt.plot(np.arange(minval, maxval), w*np.arange(minval, maxval)+b, color='green')\n",
        "plt.show()"
      ],
      "metadata": {
        "colab": {
          "base_uri": "https://localhost:8080/",
          "height": 265
        },
        "id": "c_3kW0oKL5RE",
        "outputId": "e33943bb-37a2-47a3-b805-0f69844f03e1"
      },
      "execution_count": 114,
      "outputs": [
        {
          "output_type": "display_data",
          "data": {
            "text/plain": [
              "<Figure size 432x288 with 1 Axes>"
            ],
            "image/png": "[encoded data removed]"
          },
          "metadata": {
            "needs_background": "light"
          }
        }
      ]
    },
    {
      "cell_type": "code",
      "source": [],
      "metadata": {
        "id": "LqT6t0yBM8uU"
      },
      "execution_count": null,
      "outputs": []
    }
  ]
}